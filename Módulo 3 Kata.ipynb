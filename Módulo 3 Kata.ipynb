{
 "cells": [
  {
   "cell_type": "markdown",
   "metadata": {},
   "source": [
    "## Ejercicio 1"
   ]
  },
  {
   "cell_type": "code",
   "execution_count": 19,
   "metadata": {},
   "outputs": [
    {
     "name": "stdout",
     "output_type": "stream",
     "text": [
      "¡Un asteroide se acerca a la Tierra a una velocidad de 45 km/s!\n"
     ]
    }
   ],
   "source": [
    "# Velocidad del asteroide en km/s\n",
    "velAsteroide = 45\n",
    "\n",
    "if velAsteroide > 25:\n",
    "    print(f'¡Atención, un asteroide se acerca a la Tierra a una velocidad de {velAsteroide} km/s!')\n",
    "\n",
    "else:\n",
    "    print('Hoy no hay peligro')"
   ]
  },
  {
   "cell_type": "markdown",
   "metadata": {},
   "source": [
    "## Ejercicio 2"
   ]
  },
  {
   "cell_type": "code",
   "execution_count": 18,
   "metadata": {},
   "outputs": [
    {
     "name": "stdout",
     "output_type": "stream",
     "text": [
      "Hoy no hay asteroides.\n"
     ]
    }
   ],
   "source": [
    "# Velocidad del asteroide en km/s\n",
    "velAsteroide = 19\n",
    "\n",
    "if velAsteroide >= 20:\n",
    "    print('Hay asteroides en el cielo!')\n",
    "\n",
    "else:\n",
    "    print('Hoy no hay asteroides.')"
   ]
  },
  {
   "cell_type": "markdown",
   "metadata": {},
   "source": [
    "## Ejercicio 3"
   ]
  },
  {
   "cell_type": "code",
   "execution_count": 25,
   "metadata": {},
   "outputs": [
    {
     "name": "stdout",
     "output_type": "stream",
     "text": [
      "¡Peligro, un gran asteroide se dirige a la Tierra a una velocidad de 49 km/s!\n"
     ]
    }
   ],
   "source": [
    "# Velocidad del asteroide en km/s\n",
    "velAsteroide = 49\n",
    "# Tamaño del asteroide en mts\n",
    "tamAsteroide = 30\n",
    "\n",
    "if tamAsteroide > 25 and velAsteroide > 25:\n",
    "    print(f'¡Peligro, un gran asteroide se dirige a la Tierra a una velocidad de {velAsteroide} km/s!')\n",
    "elif velAsteroide > 25:\n",
    "    print('¡Hay asteroides en el cielo!')\n",
    "else:\n",
    "    print('Hoy es un día normal.')"
   ]
  }
 ],
 "metadata": {
  "interpreter": {
   "hash": "f6d5ad7f9f24b06c652249e253fc5bc69d60423f74d3cecad62a4dc446a0c326"
  },
  "kernelspec": {
   "display_name": "Python 3.9.6 64-bit",
   "language": "python",
   "name": "python3"
  },
  "language_info": {
   "codemirror_mode": {
    "name": "ipython",
    "version": 3
   },
   "file_extension": ".py",
   "mimetype": "text/x-python",
   "name": "python",
   "nbconvert_exporter": "python",
   "pygments_lexer": "ipython3",
   "version": "3.9.6"
  },
  "orig_nbformat": 4
 },
 "nbformat": 4,
 "nbformat_minor": 2
}
